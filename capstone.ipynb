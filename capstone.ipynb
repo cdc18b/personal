{
 "cells": [
  {
   "cell_type": "markdown",
   "id": "fcacb266",
   "metadata": {},
   "source": [
    "# E-commerce Capstone"
   ]
  },
  {
   "cell_type": "markdown",
   "id": "beaa5ba2",
   "metadata": {},
   "source": [
    "## Imports & Loading"
   ]
  },
  {
   "cell_type": "code",
   "execution_count": null,
   "id": "bb58a293",
   "metadata": {},
   "outputs": [],
   "source": []
  },
  {
   "cell_type": "markdown",
   "id": "5e732f75",
   "metadata": {},
   "source": [
    "### Steam Game Reviews"
   ]
  },
  {
   "cell_type": "markdown",
   "id": "c8149904",
   "metadata": {},
   "source": [
    "##### EDA"
   ]
  },
  {
   "cell_type": "code",
   "execution_count": null,
   "id": "93aafeae",
   "metadata": {},
   "outputs": [],
   "source": []
  },
  {
   "cell_type": "markdown",
   "id": "cced0ff4",
   "metadata": {},
   "source": [
    "##### Cleaning"
   ]
  },
  {
   "cell_type": "code",
   "execution_count": null,
   "id": "b92a56e1",
   "metadata": {},
   "outputs": [],
   "source": []
  },
  {
   "cell_type": "markdown",
   "id": "1d914ff8",
   "metadata": {},
   "source": [
    "##### Engineering"
   ]
  },
  {
   "cell_type": "code",
   "execution_count": null,
   "id": "cdbf1bb2",
   "metadata": {},
   "outputs": [],
   "source": []
  },
  {
   "cell_type": "markdown",
   "id": "a2f0c409",
   "metadata": {},
   "source": [
    "##### Modeling"
   ]
  },
  {
   "cell_type": "markdown",
   "id": "116a309c",
   "metadata": {},
   "source": []
  },
  {
   "cell_type": "markdown",
   "id": "6d2c6db5",
   "metadata": {},
   "source": [
    "### Olist Transactions"
   ]
  },
  {
   "cell_type": "markdown",
   "id": "8ddad219",
   "metadata": {},
   "source": [
    "##### EDA"
   ]
  },
  {
   "cell_type": "code",
   "execution_count": null,
   "id": "7825265d",
   "metadata": {},
   "outputs": [],
   "source": []
  },
  {
   "cell_type": "markdown",
   "id": "6d9a8f1a",
   "metadata": {},
   "source": [
    "##### Cleaning"
   ]
  },
  {
   "cell_type": "code",
   "execution_count": null,
   "id": "6db50d6e",
   "metadata": {},
   "outputs": [],
   "source": []
  },
  {
   "cell_type": "markdown",
   "id": "c84f748d",
   "metadata": {},
   "source": [
    "##### Engineering"
   ]
  },
  {
   "cell_type": "code",
   "execution_count": null,
   "id": "7a3fa15f",
   "metadata": {},
   "outputs": [],
   "source": []
  },
  {
   "cell_type": "markdown",
   "id": "634e9612",
   "metadata": {},
   "source": [
    "##### Modeling"
   ]
  },
  {
   "cell_type": "code",
   "execution_count": null,
   "id": "4a20c6ce",
   "metadata": {},
   "outputs": [],
   "source": []
  },
  {
   "cell_type": "markdown",
   "id": "f06a0e6c",
   "metadata": {},
   "source": [
    "### Global Game Sales"
   ]
  },
  {
   "cell_type": "code",
   "execution_count": null,
   "id": "c9e863e1",
   "metadata": {},
   "outputs": [],
   "source": []
  },
  {
   "cell_type": "markdown",
   "id": "9bbe0634",
   "metadata": {},
   "source": [
    "##### EDA"
   ]
  },
  {
   "cell_type": "code",
   "execution_count": null,
   "id": "68eb9f3c",
   "metadata": {},
   "outputs": [],
   "source": []
  },
  {
   "cell_type": "markdown",
   "id": "c610b2f1",
   "metadata": {},
   "source": [
    "##### Cleaning"
   ]
  },
  {
   "cell_type": "code",
   "execution_count": null,
   "id": "062d21b6",
   "metadata": {},
   "outputs": [],
   "source": []
  },
  {
   "cell_type": "markdown",
   "id": "d8936a75",
   "metadata": {},
   "source": [
    "##### Engineering"
   ]
  },
  {
   "cell_type": "code",
   "execution_count": null,
   "id": "3519af89",
   "metadata": {},
   "outputs": [],
   "source": []
  },
  {
   "cell_type": "markdown",
   "id": "bf155171",
   "metadata": {},
   "source": [
    "##### Modeling"
   ]
  },
  {
   "cell_type": "code",
   "execution_count": null,
   "id": "330897d6",
   "metadata": {},
   "outputs": [],
   "source": []
  }
 ],
 "metadata": {
  "kernelspec": {
   "display_name": "default",
   "language": "python",
   "name": "python3"
  },
  "language_info": {
   "name": "python",
   "version": "3.13.5"
  }
 },
 "nbformat": 4,
 "nbformat_minor": 5
}
